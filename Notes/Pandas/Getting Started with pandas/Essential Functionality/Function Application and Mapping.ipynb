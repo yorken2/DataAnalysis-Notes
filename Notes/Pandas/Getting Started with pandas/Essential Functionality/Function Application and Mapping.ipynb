{
 "cells": [
  {
   "cell_type": "markdown",
   "metadata": {},
   "source": [
    "# Function Application and Mapping\n",
    "\n",
    "NumPy ufuncs (element-wise array methods) also work on pandas objects (See Universal Functions List)."
   ]
  },
  {
   "cell_type": "code",
   "execution_count": 1,
   "metadata": {},
   "outputs": [],
   "source": [
    "import numpy as np\n",
    "import pandas as pd"
   ]
  },
  {
   "cell_type": "code",
   "execution_count": 4,
   "metadata": {},
   "outputs": [
    {
     "data": {
      "text/html": [
       "<div>\n",
       "<style scoped>\n",
       "    .dataframe tbody tr th:only-of-type {\n",
       "        vertical-align: middle;\n",
       "    }\n",
       "\n",
       "    .dataframe tbody tr th {\n",
       "        vertical-align: top;\n",
       "    }\n",
       "\n",
       "    .dataframe thead th {\n",
       "        text-align: right;\n",
       "    }\n",
       "</style>\n",
       "<table border=\"1\" class=\"dataframe\">\n",
       "  <thead>\n",
       "    <tr style=\"text-align: right;\">\n",
       "      <th></th>\n",
       "      <th>0</th>\n",
       "      <th>1</th>\n",
       "      <th>2</th>\n",
       "      <th>3</th>\n",
       "    </tr>\n",
       "  </thead>\n",
       "  <tbody>\n",
       "    <tr>\n",
       "      <td>a</td>\n",
       "      <td>-0.454064</td>\n",
       "      <td>-0.136437</td>\n",
       "      <td>-0.686486</td>\n",
       "      <td>-0.635234</td>\n",
       "    </tr>\n",
       "    <tr>\n",
       "      <td>b</td>\n",
       "      <td>0.601839</td>\n",
       "      <td>0.279724</td>\n",
       "      <td>-0.958393</td>\n",
       "      <td>0.480862</td>\n",
       "    </tr>\n",
       "    <tr>\n",
       "      <td>c</td>\n",
       "      <td>0.687220</td>\n",
       "      <td>-1.465790</td>\n",
       "      <td>-0.920721</td>\n",
       "      <td>-0.147185</td>\n",
       "    </tr>\n",
       "    <tr>\n",
       "      <td>d</td>\n",
       "      <td>-0.221476</td>\n",
       "      <td>0.419565</td>\n",
       "      <td>0.611333</td>\n",
       "      <td>1.579432</td>\n",
       "    </tr>\n",
       "  </tbody>\n",
       "</table>\n",
       "</div>"
      ],
      "text/plain": [
       "          0         1         2         3\n",
       "a -0.454064 -0.136437 -0.686486 -0.635234\n",
       "b  0.601839  0.279724 -0.958393  0.480862\n",
       "c  0.687220 -1.465790 -0.920721 -0.147185\n",
       "d -0.221476  0.419565  0.611333  1.579432"
      ]
     },
     "execution_count": 4,
     "metadata": {},
     "output_type": "execute_result"
    }
   ],
   "source": [
    "df = pd.DataFrame(np.random.randn(16).reshape((4,4)), index=['a','b','c','d'])\n",
    "df"
   ]
  },
  {
   "cell_type": "code",
   "execution_count": 3,
   "metadata": {},
   "outputs": [
    {
     "data": {
      "text/plain": [
       "0   -0.187979\n",
       "1   -0.339788\n",
       "2   -0.272365\n",
       "3   -0.008315\n",
       "dtype: float64"
      ]
     },
     "execution_count": 3,
     "metadata": {},
     "output_type": "execute_result"
    }
   ],
   "source": [
    "df.mean()"
   ]
  },
  {
   "cell_type": "code",
   "execution_count": 11,
   "metadata": {},
   "outputs": [
    {
     "data": {
      "text/plain": [
       "a   -1.912221\n",
       "b    0.404032\n",
       "c   -1.846476\n",
       "d    2.388854\n",
       "dtype: float64"
      ]
     },
     "execution_count": 11,
     "metadata": {},
     "output_type": "execute_result"
    }
   ],
   "source": [
    "df.sum(axis=1)"
   ]
  },
  {
   "cell_type": "code",
   "execution_count": 6,
   "metadata": {},
   "outputs": [
    {
     "data": {
      "text/html": [
       "<div>\n",
       "<style scoped>\n",
       "    .dataframe tbody tr th:only-of-type {\n",
       "        vertical-align: middle;\n",
       "    }\n",
       "\n",
       "    .dataframe tbody tr th {\n",
       "        vertical-align: top;\n",
       "    }\n",
       "\n",
       "    .dataframe thead th {\n",
       "        text-align: right;\n",
       "    }\n",
       "</style>\n",
       "<table border=\"1\" class=\"dataframe\">\n",
       "  <thead>\n",
       "    <tr style=\"text-align: right;\">\n",
       "      <th></th>\n",
       "      <th>0</th>\n",
       "      <th>1</th>\n",
       "      <th>2</th>\n",
       "      <th>3</th>\n",
       "    </tr>\n",
       "  </thead>\n",
       "  <tbody>\n",
       "    <tr>\n",
       "      <td>count</td>\n",
       "      <td>4.000000</td>\n",
       "      <td>4.000000</td>\n",
       "      <td>4.000000</td>\n",
       "      <td>4.000000</td>\n",
       "    </tr>\n",
       "    <tr>\n",
       "      <td>mean</td>\n",
       "      <td>0.153380</td>\n",
       "      <td>-0.225734</td>\n",
       "      <td>-0.488567</td>\n",
       "      <td>0.319469</td>\n",
       "    </tr>\n",
       "    <tr>\n",
       "      <td>std</td>\n",
       "      <td>0.576081</td>\n",
       "      <td>0.859770</td>\n",
       "      <td>0.743067</td>\n",
       "      <td>0.956169</td>\n",
       "    </tr>\n",
       "    <tr>\n",
       "      <td>min</td>\n",
       "      <td>-0.454064</td>\n",
       "      <td>-1.465790</td>\n",
       "      <td>-0.958393</td>\n",
       "      <td>-0.635234</td>\n",
       "    </tr>\n",
       "    <tr>\n",
       "      <td>25%</td>\n",
       "      <td>-0.279623</td>\n",
       "      <td>-0.468775</td>\n",
       "      <td>-0.930139</td>\n",
       "      <td>-0.269197</td>\n",
       "    </tr>\n",
       "    <tr>\n",
       "      <td>50%</td>\n",
       "      <td>0.190181</td>\n",
       "      <td>0.071644</td>\n",
       "      <td>-0.803603</td>\n",
       "      <td>0.166838</td>\n",
       "    </tr>\n",
       "    <tr>\n",
       "      <td>75%</td>\n",
       "      <td>0.623184</td>\n",
       "      <td>0.314685</td>\n",
       "      <td>-0.362031</td>\n",
       "      <td>0.755505</td>\n",
       "    </tr>\n",
       "    <tr>\n",
       "      <td>max</td>\n",
       "      <td>0.687220</td>\n",
       "      <td>0.419565</td>\n",
       "      <td>0.611333</td>\n",
       "      <td>1.579432</td>\n",
       "    </tr>\n",
       "  </tbody>\n",
       "</table>\n",
       "</div>"
      ],
      "text/plain": [
       "              0         1         2         3\n",
       "count  4.000000  4.000000  4.000000  4.000000\n",
       "mean   0.153380 -0.225734 -0.488567  0.319469\n",
       "std    0.576081  0.859770  0.743067  0.956169\n",
       "min   -0.454064 -1.465790 -0.958393 -0.635234\n",
       "25%   -0.279623 -0.468775 -0.930139 -0.269197\n",
       "50%    0.190181  0.071644 -0.803603  0.166838\n",
       "75%    0.623184  0.314685 -0.362031  0.755505\n",
       "max    0.687220  0.419565  0.611333  1.579432"
      ]
     },
     "execution_count": 6,
     "metadata": {},
     "output_type": "execute_result"
    }
   ],
   "source": [
    "df.describe()"
   ]
  },
  {
   "cell_type": "markdown",
   "metadata": {},
   "source": [
    "#### Apply functions to a DataFrame using the apply method. This computation is invoked once on each column of frame. To apply it to each row, use axis=‘columns’"
   ]
  },
  {
   "cell_type": "code",
   "execution_count": 8,
   "metadata": {},
   "outputs": [
    {
     "data": {
      "text/plain": [
       "0   -1.141284\n",
       "1   -1.885355\n",
       "2   -1.569726\n",
       "3   -2.214666\n",
       "dtype: float64"
      ]
     },
     "execution_count": 8,
     "metadata": {},
     "output_type": "execute_result"
    }
   ],
   "source": [
    "f = lambda x: x.min()-x.max()\n",
    "df.apply(f)"
   ]
  },
  {
   "cell_type": "code",
   "execution_count": 9,
   "metadata": {},
   "outputs": [
    {
     "data": {
      "text/plain": [
       "a   -0.550048\n",
       "b   -1.560233\n",
       "c   -2.153009\n",
       "d   -1.800908\n",
       "dtype: float64"
      ]
     },
     "execution_count": 9,
     "metadata": {},
     "output_type": "execute_result"
    }
   ],
   "source": [
    "df.apply(f, axis='columns')"
   ]
  },
  {
   "cell_type": "markdown",
   "metadata": {},
   "source": [
    "<b>This does not have to return a scalar value, it can also return a Series with multiple values *Nice example of function creating series</b>"
   ]
  },
  {
   "cell_type": "code",
   "execution_count": 12,
   "metadata": {},
   "outputs": [
    {
     "data": {
      "text/html": [
       "<div>\n",
       "<style scoped>\n",
       "    .dataframe tbody tr th:only-of-type {\n",
       "        vertical-align: middle;\n",
       "    }\n",
       "\n",
       "    .dataframe tbody tr th {\n",
       "        vertical-align: top;\n",
       "    }\n",
       "\n",
       "    .dataframe thead th {\n",
       "        text-align: right;\n",
       "    }\n",
       "</style>\n",
       "<table border=\"1\" class=\"dataframe\">\n",
       "  <thead>\n",
       "    <tr style=\"text-align: right;\">\n",
       "      <th></th>\n",
       "      <th>0</th>\n",
       "      <th>1</th>\n",
       "      <th>2</th>\n",
       "      <th>3</th>\n",
       "    </tr>\n",
       "  </thead>\n",
       "  <tbody>\n",
       "    <tr>\n",
       "      <td>min</td>\n",
       "      <td>-0.454064</td>\n",
       "      <td>-1.465790</td>\n",
       "      <td>-0.958393</td>\n",
       "      <td>-0.635234</td>\n",
       "    </tr>\n",
       "    <tr>\n",
       "      <td>max</td>\n",
       "      <td>0.687220</td>\n",
       "      <td>0.419565</td>\n",
       "      <td>0.611333</td>\n",
       "      <td>1.579432</td>\n",
       "    </tr>\n",
       "  </tbody>\n",
       "</table>\n",
       "</div>"
      ],
      "text/plain": [
       "            0         1         2         3\n",
       "min -0.454064 -1.465790 -0.958393 -0.635234\n",
       "max  0.687220  0.419565  0.611333  1.579432"
      ]
     },
     "execution_count": 12,
     "metadata": {},
     "output_type": "execute_result"
    }
   ],
   "source": [
    "def f(x):\n",
    "    return pd.Series([x.min(), x.max()], index=['min', 'max'])\n",
    "\n",
    "df.apply(f)"
   ]
  },
  {
   "cell_type": "markdown",
   "metadata": {},
   "source": [
    "<b>If you want to apply a function Element-Wise, use .applymap\n",
    "instead of apply. If you want to apply to one column, use .map</b>\n",
    "- frame.applymap(f)\n",
    "- frame[‘e’].map(f)\n"
   ]
  },
  {
   "cell_type": "code",
   "execution_count": null,
   "metadata": {},
   "outputs": [],
   "source": []
  }
 ],
 "metadata": {
  "kernelspec": {
   "display_name": "Python 3",
   "language": "python",
   "name": "python3"
  },
  "language_info": {
   "codemirror_mode": {
    "name": "ipython",
    "version": 3
   },
   "file_extension": ".py",
   "mimetype": "text/x-python",
   "name": "python",
   "nbconvert_exporter": "python",
   "pygments_lexer": "ipython3",
   "version": "3.7.4"
  }
 },
 "nbformat": 4,
 "nbformat_minor": 2
}
