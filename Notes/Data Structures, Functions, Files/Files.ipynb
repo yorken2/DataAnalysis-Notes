{
 "cells": [
  {
   "cell_type": "markdown",
   "metadata": {},
   "source": [
    "## Files \n",
    "To open a file use the open function\n",
    "By default these files are opened in the ‘r’ read only mode.\n",
    "\n",
    "Path = ‘  ’\n",
    "F = open(path)\n",
    "\n",
    "Important to close and save the file back to the OS\n",
    "Use .close()\n",
    "\n",
    "One of the easiest way to clean up open files is to use the with statement:\n",
    "\twith open(path) as f:\n",
    "\t\t….\n",
    "\n",
    "with automatically closes the file when existing the with block\n",
    "\n",
    "To write to a file:\n",
    "with open(path, ‘w’) as f:\n",
    "\n",
    "Common methods:\n",
    "- .read(): reads a certain amount of characters from the file\n",
    "- .tell(): how many bytes\n",
    "- .seek(): changes the file position\n"
   ]
  },
  {
   "cell_type": "code",
   "execution_count": null,
   "metadata": {},
   "outputs": [],
   "source": []
  }
 ],
 "metadata": {
  "kernelspec": {
   "display_name": "Python 3",
   "language": "python",
   "name": "python3"
  },
  "language_info": {
   "codemirror_mode": {
    "name": "ipython",
    "version": 3
   },
   "file_extension": ".py",
   "mimetype": "text/x-python",
   "name": "python",
   "nbconvert_exporter": "python",
   "pygments_lexer": "ipython3",
   "version": "3.7.4"
  }
 },
 "nbformat": 4,
 "nbformat_minor": 2
}
