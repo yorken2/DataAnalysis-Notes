{
 "cells": [
  {
   "cell_type": "markdown",
   "metadata": {},
   "source": [
    "\n",
    "Flexibly sized collection of key-value pairs; key and value are both Python objects. \n",
    "\n",
    "Insert values via \n",
    "D1 = {‘a’: 1, ‘b’:2, ‘c’:3}\n",
    "or\n",
    "D1[d] = 4\n",
    "\n",
    "Use ‘del’ or pop to delete pair values\n",
    "- del  D1[‘a’]\n",
    "- x = D1.pop(‘a’)\n",
    "\n",
    "Constructing Dicts via sequences\n",
    "\n",
    "Can do:\n",
    "\tmapping = {}\n",
    "\tfor key, value in ‘\t\t‘:\n",
    "\t\tmapping[key] = value\n",
    "\t\tprint(mapping)\n",
    "\n",
    "Or we can use the dict function\n",
    "\tmapping = dict(zip(range(5), reversed(range(5))))\n",
    "\t\n",
    "\tmapping\n",
    "\tOut[78]: {0: 4, 1: 3, 2: 2, 3: 1, 4: 0}\t\t\n",
    "\n",
    "Valid dict key types\n",
    "Keys generally have to be immutable objects i.e. scalar types(int, float, string) or tuples. Lists won’t work.\n",
    "- Technical term is hashability.\n",
    "\n",
    "To check if a certain value can be used by using hash\n",
    "- hash('string')\n",
    "- Out[87]: -8770564952663575733\n",
    "\t"
   ]
  },
  {
   "cell_type": "code",
   "execution_count": null,
   "metadata": {},
   "outputs": [],
   "source": []
  }
 ],
 "metadata": {
  "kernelspec": {
   "display_name": "Python 3",
   "language": "python",
   "name": "python3"
  },
  "language_info": {
   "codemirror_mode": {
    "name": "ipython",
    "version": 3
   },
   "file_extension": ".py",
   "mimetype": "text/x-python",
   "name": "python",
   "nbconvert_exporter": "python",
   "pygments_lexer": "ipython3",
   "version": "3.7.4"
  }
 },
 "nbformat": 4,
 "nbformat_minor": 2
}
