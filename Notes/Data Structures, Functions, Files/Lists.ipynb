{
 "cells": [
  {
   "cell_type": "markdown",
   "metadata": {},
   "source": [
    "## Lists\n",
    "\n",
    "Lists are variable length and can be modified.\n",
    "- Created using [] brackets or use list(‘some variables)\n",
    "\n",
    "Elements can be shown in a list using ‘list_name[2]’\n",
    "\n",
    "List function frequently used in data processing  as a way to materialise an iterator or expression:\n",
    "- gen = range(15)\n",
    "\n",
    "- gen\n",
    "- Out[37]: range(0, 15)\n",
    "\n",
    "- list(gen)\n",
    "- Out[38]: [0, 1, 2, 3, 4, 5, 6, 7, 8, 9, 10, 11, 12, 13, 14]\n",
    "\n",
    "Adding & Removing Elements\n",
    "Add with .append()\n",
    "\n",
    "Insert with .insert(1, ‘red)\n",
    "- 1 is the location in the list you want to insert into\n",
    "\n",
    "Remove and return the element with .pop()\n",
    "Remove completely with .remove()\n",
    "\n",
    "To check if a list contains an element:\n",
    "- Use ‘in’ keyword\n",
    "- ‘Dward in gen\n",
    "- True\n",
    "Opposite is the ‘not in’ keyword\n",
    "\n",
    "Concatenating & Combining Lists\n",
    "Use +\n",
    "\n",
    "To add multiples elements to a list\n",
    "- Use .extend’([7,8 (6,7,8)])’\n",
    "- Use extend when appending to larger lists as it is computationally less expensive and faster.\n",
    "\n",
    "Sorting Lists\n",
    "Use .sort()\n",
    "\n",
    "Slicing\n",
    "Slice notation: consists of start:stop passed to the indexing operator[ ]:\n",
    "\t- seq = [4,5,3,4,6,3,2]\n",
    "\n",
    "\tseq[:5]\n",
    "\tOut[44]: [4, 5, 3, 4, 6]\n",
    "\n",
    "\tseq[0:5]\n",
    "\tOut[45]: [4, 5, 3, 4, 6]\n",
    "\n",
    "Negative value passed will start at the end of the list.\n",
    "\n",
    "\tseq[::2]\n",
    "\tOut[48]: [4, 3, 6, 2]\n",
    "\n",
    "\tseq[::-1]\n",
    "\tOut[49]: [2, 3, 6, 4, 3, 5, 4]\n",
    "Reverses List"
   ]
  },
  {
   "cell_type": "code",
   "execution_count": 1,
   "metadata": {},
   "outputs": [],
   "source": [
    "gen = list(range(15))"
   ]
  },
  {
   "cell_type": "code",
   "execution_count": 2,
   "metadata": {},
   "outputs": [
    {
     "data": {
      "text/plain": [
       "[0, 1, 2, 3, 4, 5, 6, 7, 8, 9, 10, 11, 12, 13, 14]"
      ]
     },
     "execution_count": 2,
     "metadata": {},
     "output_type": "execute_result"
    }
   ],
   "source": [
    "gen"
   ]
  },
  {
   "cell_type": "code",
   "execution_count": null,
   "metadata": {},
   "outputs": [],
   "source": []
  }
 ],
 "metadata": {
  "kernelspec": {
   "display_name": "Python 3",
   "language": "python",
   "name": "python3"
  },
  "language_info": {
   "codemirror_mode": {
    "name": "ipython",
    "version": 3
   },
   "file_extension": ".py",
   "mimetype": "text/x-python",
   "name": "python",
   "nbconvert_exporter": "python",
   "pygments_lexer": "ipython3",
   "version": "3.7.4"
  }
 },
 "nbformat": 4,
 "nbformat_minor": 2
}
