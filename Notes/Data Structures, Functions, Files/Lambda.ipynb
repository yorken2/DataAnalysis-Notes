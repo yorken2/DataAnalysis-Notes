{
 "cells": [
  {
   "cell_type": "markdown",
   "metadata": {},
   "source": [
    "## Lambda - Anonymous Functions\n",
    "\n",
    "Lambda —> we are declaring anonymous functions\n",
    "\n",
    "So this: \n",
    "\t\n",
    "\tdef short_func(x):\n",
    "\t\treturn x*2\n",
    "\n",
    "Can be converted to this:\n",
    "\tf = lambda x: x*2\n"
   ]
  },
  {
   "cell_type": "code",
   "execution_count": null,
   "metadata": {},
   "outputs": [],
   "source": []
  }
 ],
 "metadata": {
  "kernelspec": {
   "display_name": "Python 3",
   "language": "python",
   "name": "python3"
  },
  "language_info": {
   "codemirror_mode": {
    "name": "ipython",
    "version": 3
   },
   "file_extension": ".py",
   "mimetype": "text/x-python",
   "name": "python",
   "nbconvert_exporter": "python",
   "pygments_lexer": "ipython3",
   "version": "3.7.4"
  }
 },
 "nbformat": 4,
 "nbformat_minor": 2
}
