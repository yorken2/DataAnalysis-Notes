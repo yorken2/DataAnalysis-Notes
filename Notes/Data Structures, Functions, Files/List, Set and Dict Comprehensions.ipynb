{
 "cells": [
  {
   "cell_type": "markdown",
   "metadata": {},
   "source": [
    "## List Comprehensions\n",
    "\n",
    "These take the basic form of:\n",
    "\n",
    "\t[expr for val in collection if condition]\n",
    "\n",
    "This is the equivalent of:\n",
    "\t\n",
    "\tresult = []\n",
    "\tfor val in collection:\n",
    "\t\tif condition:\n",
    "\t\t\tresult.append(expr)\n",
    "\n",
    "Good method of filtering out data without including a filter condition."
   ]
  },
  {
   "cell_type": "code",
   "execution_count": 1,
   "metadata": {},
   "outputs": [
    {
     "data": {
      "text/plain": [
       "['BAT', 'CAR', 'DOVE', 'PYTHON']"
      ]
     },
     "execution_count": 1,
     "metadata": {},
     "output_type": "execute_result"
    }
   ],
   "source": [
    "strings = ['a','as','bat','car','dove','python']\n",
    "\n",
    "[x.upper() for x in strings if len(x)>2]"
   ]
  },
  {
   "cell_type": "markdown",
   "metadata": {},
   "source": [
    "## Set & Dict Comprehensions\n",
    "\n",
    "These look like:\n",
    "\t\n",
    "\tdict_comp = {key-expr: value-expr for value in collection if condition}\n",
    "\n",
    "\tset_comp = {expr for value in collection if condition}\n",
    "\n",
    "These are mostly conveniences but they similarly can make code easier to write and read. Lets take the sample above.\n",
    "\n",
    "\n",
    "\tunique_lengths = {len(x) for x in strings}\n",
    "\n",
    "\tunique_lengths\n",
    "\tOut[102]: {1, 2, 3, 4, 6} \n",
    "    \n",
    "Could also create a lookup map of these strings to their locations in the list:\n",
    "\t\n",
    "\tloc_mapping = {x:y for x, y in enumerate(strings)}\n",
    "\n",
    "\tloc_mapping\n",
    "\tOut[105]: {0: 'a', 1: 'as', 2: 'bat', 3: 'car', 4: 'dove', 5: \t'python’}\n",
    "    \n",
    "    \n"
   ]
  },
  {
   "cell_type": "markdown",
   "metadata": {},
   "source": [
    "## Nested List Comprehensions\n",
    "\n",
    "We have a list of names, some English, some Spanish \n",
    "\tall_data = [['john', 'steven','emily','sean'],\t\t\t\t['maria','juan','javier','natalia']]\n",
    "\n",
    "We want to find those with more than one ‘e’ in them.\n",
    "\n",
    "\tfor x in all_data:\n",
    "  \t  \tenough_es = [name for name in x if name.count('e')>=2] \t\n",
    "\t\tnames_of_interest.extend(enough_es)\n",
    "    \n",
    "\n",
    "\tnames_of_interest\n",
    "\tOut[110]: ['steven']\n",
    "\n",
    "This could be shortened to:\n",
    "\n",
    "\tresult = [letter for names in all_data for letter in names if letter.count('e')>=2]\n",
    "\n",
    "\tresult\n",
    "\tOut[112]: ['steven']\n",
    "\n",
    "The comprehension may look tricky but just focus on one for loop at a time.\n",
    "The letter in the example is what you want in the end.\n",
    "\n"
   ]
  },
  {
   "cell_type": "code",
   "execution_count": null,
   "metadata": {},
   "outputs": [],
   "source": []
  },
  {
   "cell_type": "code",
   "execution_count": null,
   "metadata": {},
   "outputs": [],
   "source": []
  },
  {
   "cell_type": "code",
   "execution_count": null,
   "metadata": {},
   "outputs": [],
   "source": []
  }
 ],
 "metadata": {
  "kernelspec": {
   "display_name": "Python 3",
   "language": "python",
   "name": "python3"
  },
  "language_info": {
   "codemirror_mode": {
    "name": "ipython",
    "version": 3
   },
   "file_extension": ".py",
   "mimetype": "text/x-python",
   "name": "python",
   "nbconvert_exporter": "python",
   "pygments_lexer": "ipython3",
   "version": "3.7.4"
  }
 },
 "nbformat": 4,
 "nbformat_minor": 2
}
