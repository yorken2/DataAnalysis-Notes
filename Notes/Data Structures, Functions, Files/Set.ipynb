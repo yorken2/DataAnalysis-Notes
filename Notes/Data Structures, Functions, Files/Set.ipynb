{
 "cells": [
  {
   "cell_type": "markdown",
   "metadata": {},
   "source": [
    "## Set\n",
    "Unordered collection of unique elements. Can think of them like dicts, but keys only, no values. \n",
    "\n",
    "Can be created two ways; the set function or via a set literal with curly braces:\n",
    "\n",
    "\tset([1,2,3,4,5,6])\n",
    "\tOut[90]: {1, 2, 3, 4, 5, 6}\n",
    "\n",
    "\n",
    "\t{1,2,3,4}\n",
    "\tOut[91]: {1, 2, 3, 4}\n",
    "\n",
    "Supports mathematical set operations:\n",
    "Union: have a list of sets, will return only the unique elements in two sets.\n",
    "\n",
    "\ta.union(b)\n",
    "\tOut[95]: {1, 2, 3, 5, 6, 7, 24, 34}\n",
    "\n",
    "Set Operators\n",
    "a.add(x) —> add elements x to a\n",
    "a.clear() —> reset\n",
    "\n",
    "a.remove(x)\n",
    "a.pop()\n",
    "\n",
    "a.union(x)\n",
    "a.update(b) —> set the content of a to be the union of the elements in a and b\n",
    "\n",
    "a.intersection(b) —> all elements in both\n",
    "a.intersection_update(b) —> set the contents of a to be the intersection of the elements of a and b\n",
    "\n",
    "a.difference —> elements in a that are not in b\n",
    "a.difference_update —>set a to the elements in a that are not in b\n"
   ]
  },
  {
   "cell_type": "code",
   "execution_count": null,
   "metadata": {},
   "outputs": [],
   "source": []
  }
 ],
 "metadata": {
  "kernelspec": {
   "display_name": "Python 3",
   "language": "python",
   "name": "python3"
  },
  "language_info": {
   "codemirror_mode": {
    "name": "ipython",
    "version": 3
   },
   "file_extension": ".py",
   "mimetype": "text/x-python",
   "name": "python",
   "nbconvert_exporter": "python",
   "pygments_lexer": "ipython3",
   "version": "3.7.4"
  }
 },
 "nbformat": 4,
 "nbformat_minor": 2
}
