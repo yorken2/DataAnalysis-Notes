{
 "cells": [
  {
   "cell_type": "markdown",
   "metadata": {},
   "source": [
    "# Essential Python Libraries\n",
    "\n",
    "## NumPy\n",
    "- Cornerstone \n",
    "- Provides data structures, algorithms, and library glue needed for most scientific applications involving numerical data in Python.\n",
    "\n",
    "## pandas\n",
    "- Provides high level data structures and functions designed to make working with structured data or tabular data fast, easy and expressive. \n",
    "- Blends ideas of NumPy with the flexible data manipulation capabilities of spreadsheets and relational databases (SQL)\n",
    "\n",
    "## matplotlib\n",
    "- Most popular Python library for producing plots and other 2d data visualisations created for publications.\n",
    "\n",
    "## IPython & Jupyter \n",
    "- IPython: Does not provide any computational or data analytical tools by itself\n",
    "    - It encourages execute-explore workflow rather than edit-compile-run\n",
    "    - Helps get the job done faster by providing easy access to your OS’s shell and filesystem.\n",
    "\n",
    "## SciPy\n",
    "- Collection of packages addressing a number of different standard problem domains in scientific computing.\n",
    "- Together NumPy and SciPy form a reasonably complete and mature computational foundation for many traditional scientific computing applications. \n",
    "\n",
    "## Scikit-learn\n",
    "- General purpose ML toolkit for Python programmers\n",
    "- Includes submodules for such models as: \n",
    "    - Classifications: SVM, nearest neighbours, random forest, logistic regression.\n",
    "    - Regression: Lasso, ridge regression\n",
    "    - Clustering: k-means, spectral clustering\n",
    "    - Model selection: Grid search, cross-validation, metrics\n",
    "\n",
    "## Statsmodels\n",
    "- Statistical analysis package\n",
    "- Contains algorithms for classical statistics and econometrics. \n",
    "    - Regression models, variance, time series, visualisation of stat model results\n"
   ]
  },
  {
   "cell_type": "markdown",
   "metadata": {},
   "source": [
    "# Why Python for DA?\n",
    "\n",
    "- Popular\n",
    "- Large community\n",
    "- Support for libraries\n",
    "- Combined with general purpose software engineering, excellent option for building data applications\n",
    "- Suitable language for not only doing research and prototyping but also for building the production systems\n",
    "    - Solve the two language problem: Python could be the universal language in an organisation \n",
    "\n",
    "## Should not be used when:\n",
    "- Slower than code written in a compiled language like Java\n",
    "- Challenging language for building highly concurrent, multithreaded applications\n"
   ]
  },
  {
   "cell_type": "code",
   "execution_count": null,
   "metadata": {},
   "outputs": [],
   "source": []
  }
 ],
 "metadata": {
  "kernelspec": {
   "display_name": "Python 3",
   "language": "python",
   "name": "python3"
  },
  "language_info": {
   "codemirror_mode": {
    "name": "ipython",
    "version": 3
   },
   "file_extension": ".py",
   "mimetype": "text/x-python",
   "name": "python",
   "nbconvert_exporter": "python",
   "pygments_lexer": "ipython3",
   "version": "3.7.4"
  }
 },
 "nbformat": 4,
 "nbformat_minor": 2
}
