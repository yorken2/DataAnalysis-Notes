{
 "cells": [
  {
   "cell_type": "markdown",
   "metadata": {},
   "source": [
    "## IPython Interpreter\n",
    "\n",
    "Use %run to execute code in the specified file, enables you to explore the results interactively \n",
    "- %run hello_world.py \n",
    "Identical to running the programm on the command line using python3 hello_world.py\n",
    "- Use ‘%run -i ‘ to give access to variables defined in the IPython namespace \n",
    "\n",
    "? Before or after a variable will display some general information about the object\n",
    "- Referred to as object introspection.\n",
    "\n",
    "IPython has magic commands. These all begin with %. Too many to list."
   ]
  },
  {
   "cell_type": "code",
   "execution_count": null,
   "metadata": {},
   "outputs": [],
   "source": []
  }
 ],
 "metadata": {
  "kernelspec": {
   "display_name": "Python 3",
   "language": "python",
   "name": "python3"
  },
  "language_info": {
   "codemirror_mode": {
    "name": "ipython",
    "version": 3
   },
   "file_extension": ".py",
   "mimetype": "text/x-python",
   "name": "python",
   "nbconvert_exporter": "python",
   "pygments_lexer": "ipython3",
   "version": "3.7.4"
  }
 },
 "nbformat": 4,
 "nbformat_minor": 2
}
