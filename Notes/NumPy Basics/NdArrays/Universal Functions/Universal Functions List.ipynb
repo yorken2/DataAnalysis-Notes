{
 "cells": [
  {
   "cell_type": "markdown",
   "metadata": {},
   "source": [
    "## Universal Functions List\n",
    "- abs, fabs= compute the absolute value element wise\n",
    "- sqrt= square root\n",
    "- square= square of each element\n",
    "- exp= compute the exponant e of each element\n",
    "- sign = compute the sign of each element\n",
    "- rint = round elements to the nearest integer, preserving the dtype.\n",
    "- modf = return fractional and integral parts of array as a seperat array.\n",
    "\n",
    "## Binary Universal Functions\n",
    "—> These are performed element wise\n",
    "\n",
    "- add\n",
    "- subtract\n",
    "- multiply\n",
    "- divide, floor_divide\n",
    "- power\n",
    "- maximum, fmax\n",
    "- minimum, fmin\n",
    "- mod = element wise modulas\n",
    "- copysign = copy sign of values in second argument to values in first argument\n",
    "- greater, greater_equal, less, less_equal, equal, not_equal\n",
    "—> These perform element wise comparison, yeilding boolean arrays"
   ]
  },
  {
   "cell_type": "markdown",
   "metadata": {},
   "source": [
    "## Unique and Other Set Logic\n",
    "NumPy has some basic set operations for 1d arrays\n",
    "- .unique(x): returns the unique values in an array\n",
    "- intersect1d(x, y): compute the sorted, common elements in x and y\n",
    "- union1d(x, y): sorted union elements of both\n"
   ]
  },
  {
   "cell_type": "markdown",
   "metadata": {},
   "source": [
    "## Sorting\n",
    "Like lists, we can use the sort() methods here.\n"
   ]
  },
  {
   "cell_type": "code",
   "execution_count": 3,
   "metadata": {},
   "outputs": [
    {
     "data": {
      "text/plain": [
       "array([ 0.96317899,  0.92865422, -0.80610571, -1.68434113, -2.00292942,\n",
       "       -2.18421477,  3.21200548,  1.5520026 ,  1.20757943, -1.83199378,\n",
       "       -0.31073804,  1.29320767,  0.4659605 ,  1.31173593, -0.24254538])"
      ]
     },
     "execution_count": 3,
     "metadata": {},
     "output_type": "execute_result"
    }
   ],
   "source": [
    "import numpy as np\n",
    "arr = np.random.randn(15)\n",
    "arr"
   ]
  },
  {
   "cell_type": "code",
   "execution_count": 5,
   "metadata": {},
   "outputs": [
    {
     "data": {
      "text/plain": [
       "array([-2.18421477, -2.00292942, -1.83199378, -1.68434113, -0.80610571,\n",
       "       -0.31073804, -0.24254538,  0.4659605 ,  0.92865422,  0.96317899,\n",
       "        1.20757943,  1.29320767,  1.31173593,  1.5520026 ,  3.21200548])"
      ]
     },
     "execution_count": 5,
     "metadata": {},
     "output_type": "execute_result"
    }
   ],
   "source": [
    "arr.sort()\n",
    "arr"
   ]
  },
  {
   "cell_type": "code",
   "execution_count": 7,
   "metadata": {},
   "outputs": [
    {
     "data": {
      "text/plain": [
       "array([[ 0.99710785,  1.60531299,  0.70234427],\n",
       "       [ 0.91335247, -0.89934055, -0.66296206],\n",
       "       [-0.42683927, -0.5214154 ,  0.62827036],\n",
       "       [ 0.59368892, -1.81979028,  0.25589479],\n",
       "       [ 2.31834438,  0.20667991,  0.49956061]])"
      ]
     },
     "execution_count": 7,
     "metadata": {},
     "output_type": "execute_result"
    }
   ],
   "source": [
    "#to sort with a multidimensional array we can pass the axis to the sort method\n",
    "arr = np.random.randn(15).reshape((5,3))\n",
    "arr"
   ]
  },
  {
   "cell_type": "code",
   "execution_count": 9,
   "metadata": {},
   "outputs": [
    {
     "data": {
      "text/plain": [
       "array([[ 0.70234427,  0.99710785,  1.60531299],\n",
       "       [-0.89934055, -0.66296206,  0.91335247],\n",
       "       [-0.5214154 , -0.42683927,  0.62827036],\n",
       "       [-1.81979028,  0.25589479,  0.59368892],\n",
       "       [ 0.20667991,  0.49956061,  2.31834438]])"
      ]
     },
     "execution_count": 9,
     "metadata": {},
     "output_type": "execute_result"
    }
   ],
   "source": [
    "#axis 1. Could also be written as (axis=1)\n",
    "arr.sort(1)\n",
    "arr"
   ]
  },
  {
   "cell_type": "code",
   "execution_count": 10,
   "metadata": {},
   "outputs": [
    {
     "data": {
      "text/plain": [
       "array([[-1.81979028, -0.66296206,  0.59368892],\n",
       "       [-0.89934055, -0.42683927,  0.62827036],\n",
       "       [-0.5214154 ,  0.25589479,  0.91335247],\n",
       "       [ 0.20667991,  0.49956061,  1.60531299],\n",
       "       [ 0.70234427,  0.99710785,  2.31834438]])"
      ]
     },
     "execution_count": 10,
     "metadata": {},
     "output_type": "execute_result"
    }
   ],
   "source": [
    "arr.sort(0)\n",
    "arr"
   ]
  },
  {
   "cell_type": "markdown",
   "metadata": {},
   "source": [
    "# Mathematical & Statistical Models\n",
    "\n",
    "A set of mathematical functions that compute statistics about an entire array or about the data along an axis are accessible as methods of an array class"
   ]
  },
  {
   "cell_type": "code",
   "execution_count": 12,
   "metadata": {},
   "outputs": [
    {
     "data": {
      "text/plain": [
       "array([[-0.74768134,  0.43827181, -1.70076571,  0.11609283, -0.10896003],\n",
       "       [-1.70520187,  0.19114431,  0.45530264,  1.1216545 , -0.60338584],\n",
       "       [-0.94298727, -0.03732501, -0.73144267,  0.51527147,  0.43491838],\n",
       "       [-0.11800158,  0.54731791,  1.16632194,  0.99876185, -0.71408404]])"
      ]
     },
     "execution_count": 12,
     "metadata": {},
     "output_type": "execute_result"
    }
   ],
   "source": [
    "arr = np.random.randn(4,5)\n",
    "arr"
   ]
  },
  {
   "cell_type": "code",
   "execution_count": 13,
   "metadata": {},
   "outputs": [
    {
     "data": {
      "text/plain": [
       "-1.424777715078812"
      ]
     },
     "execution_count": 13,
     "metadata": {},
     "output_type": "execute_result"
    }
   ],
   "source": [
    "arr.sum()"
   ]
  },
  {
   "cell_type": "code",
   "execution_count": 14,
   "metadata": {},
   "outputs": [
    {
     "data": {
      "text/plain": [
       "-0.07123888575394059"
      ]
     },
     "execution_count": 14,
     "metadata": {},
     "output_type": "execute_result"
    }
   ],
   "source": [
    "#can also be written as np.mean(arr)\n",
    "arr.mean()"
   ]
  },
  {
   "cell_type": "code",
   "execution_count": 15,
   "metadata": {},
   "outputs": [
    {
     "data": {
      "text/plain": [
       "array([-0.40060849, -0.10809725, -0.15231302,  0.37606322])"
      ]
     },
     "execution_count": 15,
     "metadata": {},
     "output_type": "execute_result"
    }
   ],
   "source": [
    "#These also take optional axis arguments\n",
    "arr.mean(axis=1)\n",
    "#this mean computes across the columns"
   ]
  },
  {
   "cell_type": "markdown",
   "metadata": {},
   "source": [
    "In multidimensional arrays, accumulation functions like cumsum return an array of the same size, but with the partial aggregates computed along the indicated axis according to each lower dimensional slice:\n"
   ]
  },
  {
   "cell_type": "code",
   "execution_count": 16,
   "metadata": {},
   "outputs": [
    {
     "data": {
      "text/plain": [
       "array([[1, 2, 3],\n",
       "       [4, 5, 6],\n",
       "       [7, 8, 9]])"
      ]
     },
     "execution_count": 16,
     "metadata": {},
     "output_type": "execute_result"
    }
   ],
   "source": [
    "arr = np.array([[1,2,3], [4,5,6], [7,8,9]])\n",
    "arr"
   ]
  },
  {
   "cell_type": "code",
   "execution_count": 17,
   "metadata": {},
   "outputs": [
    {
     "data": {
      "text/plain": [
       "array([ 1,  3,  6, 10, 15, 21, 28, 36, 45])"
      ]
     },
     "execution_count": 17,
     "metadata": {},
     "output_type": "execute_result"
    }
   ],
   "source": [
    "arr.cumsum()"
   ]
  },
  {
   "cell_type": "code",
   "execution_count": 18,
   "metadata": {},
   "outputs": [
    {
     "data": {
      "text/plain": [
       "array([[ 1,  2,  3],\n",
       "       [ 5,  7,  9],\n",
       "       [12, 15, 18]])"
      ]
     },
     "execution_count": 18,
     "metadata": {},
     "output_type": "execute_result"
    }
   ],
   "source": [
    "arr.cumsum(0)"
   ]
  },
  {
   "cell_type": "code",
   "execution_count": 19,
   "metadata": {},
   "outputs": [
    {
     "data": {
      "text/plain": [
       "array([[ 1,  3,  6],\n",
       "       [ 4,  9, 15],\n",
       "       [ 7, 15, 24]])"
      ]
     },
     "execution_count": 19,
     "metadata": {},
     "output_type": "execute_result"
    }
   ],
   "source": [
    "arr.cumsum(1)"
   ]
  },
  {
   "cell_type": "markdown",
   "metadata": {},
   "source": [
    "#### Other Methods \n",
    "- arr.std, var: standard deviation and variance\n",
    "- min, max\n",
    "- cumsum: cumulative sum of elements starting from 0\n",
    "- cumprod: cumulative product of elements starting from 1"
   ]
  },
  {
   "cell_type": "markdown",
   "metadata": {},
   "source": [
    "# Methods for Boolean Arrays\n",
    "Boolean arrays are coerced to 1(True) and 0(False) in the preceding methods. Thus, sum is often used as a means of counting True values in a boolean array:"
   ]
  },
  {
   "cell_type": "code",
   "execution_count": 21,
   "metadata": {},
   "outputs": [
    {
     "data": {
      "text/plain": [
       "array([ 0.30267363,  0.05388517, -0.27134356, -0.5836089 , -1.07560773,\n",
       "       -1.17005431,  0.91818918,  0.30576149, -0.16087302,  0.5446128 ,\n",
       "        1.43852702])"
      ]
     },
     "execution_count": 21,
     "metadata": {},
     "output_type": "execute_result"
    }
   ],
   "source": [
    "arr = np.random.randn(100)\n",
    "arr[:11]"
   ]
  },
  {
   "cell_type": "code",
   "execution_count": 22,
   "metadata": {},
   "outputs": [
    {
     "data": {
      "text/plain": [
       "55"
      ]
     },
     "execution_count": 22,
     "metadata": {},
     "output_type": "execute_result"
    }
   ],
   "source": [
    "#count the number of positive values\n",
    "(arr>0).sum()"
   ]
  },
  {
   "cell_type": "markdown",
   "metadata": {},
   "source": [
    "The following works with boolean arrays\n",
    "\n",
    "- all(): Checks if every value is True\n",
    "- any(): tests whether one or more values in an array is True"
   ]
  },
  {
   "cell_type": "code",
   "execution_count": 24,
   "metadata": {},
   "outputs": [
    {
     "data": {
      "text/plain": [
       "True"
      ]
     },
     "execution_count": 24,
     "metadata": {},
     "output_type": "execute_result"
    }
   ],
   "source": [
    "arr = np.array([True, False, True, False])\n",
    "arr.any()"
   ]
  },
  {
   "cell_type": "code",
   "execution_count": 25,
   "metadata": {},
   "outputs": [
    {
     "data": {
      "text/plain": [
       "False"
      ]
     },
     "execution_count": 25,
     "metadata": {},
     "output_type": "execute_result"
    }
   ],
   "source": [
    "arr.all()"
   ]
  }
 ],
 "metadata": {
  "kernelspec": {
   "display_name": "Python 3",
   "language": "python",
   "name": "python3"
  },
  "language_info": {
   "codemirror_mode": {
    "name": "ipython",
    "version": 3
   },
   "file_extension": ".py",
   "mimetype": "text/x-python",
   "name": "python",
   "nbconvert_exporter": "python",
   "pygments_lexer": "ipython3",
   "version": "3.7.4"
  }
 },
 "nbformat": 4,
 "nbformat_minor": 2
}
