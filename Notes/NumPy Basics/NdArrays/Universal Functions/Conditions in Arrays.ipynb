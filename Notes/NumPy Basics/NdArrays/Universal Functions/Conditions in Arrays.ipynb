{
 "cells": [
  {
   "cell_type": "markdown",
   "metadata": {},
   "source": [
    "We saw ternary expressions in list, dict and set conditions\n",
    "\n",
    "numpy.where function is a vectorised version of the ternary expression ‘x if condition else y’\n",
    "\n",
    "np.where makes it easy to produce a new array of values based on another array (example 2)"
   ]
  },
  {
   "cell_type": "code",
   "execution_count": 2,
   "metadata": {},
   "outputs": [
    {
     "data": {
      "text/plain": [
       "[1.1, 2.2, 2.3, 1.4, 1.5, 2.6]"
      ]
     },
     "execution_count": 2,
     "metadata": {},
     "output_type": "execute_result"
    }
   ],
   "source": [
    "import numpy as np\n",
    "#create two arrays of values and one boolean\n",
    "xarr = np.array([1.1, 1.2, 1.3, 1.4, 1.5, 1.6])\n",
    "yarr = np.array([2.1, 2.2, 2.3, 2.4, 2.5, 2.6])\n",
    "cond = np.array([True, False, False, True, True, False])\n",
    "\n",
    "#lets take a value from xarr when cond is True. Otherwise take a value from yarr\n",
    "result = [(x if c else y)\n",
    "         for x, y, c in zip(xarr, yarr, cond)]\n",
    "\n",
    "result\n"
   ]
  },
  {
   "cell_type": "markdown",
   "metadata": {},
   "source": [
    "##### This method has two problems:\n",
    "- Not fast for large arrays\n",
    "- wont work with multidimensional arrays\n",
    "\n",
    "#### np.where  should be used\n",
    "The below can be read as \"where the condition is true, select xarr, otherwise yarr\""
   ]
  },
  {
   "cell_type": "code",
   "execution_count": 3,
   "metadata": {},
   "outputs": [
    {
     "data": {
      "text/plain": [
       "array([1.1, 2.2, 2.3, 1.4, 1.5, 2.6])"
      ]
     },
     "execution_count": 3,
     "metadata": {},
     "output_type": "execute_result"
    }
   ],
   "source": [
    "np.where(cond, xarr, yarr)"
   ]
  },
  {
   "cell_type": "code",
   "execution_count": 5,
   "metadata": {},
   "outputs": [
    {
     "data": {
      "text/plain": [
       "array([[-0.93957868,  0.0116647 , -0.35891262, -0.21249576],\n",
       "       [-0.89775923,  0.34757739, -0.71215222, -0.46315864],\n",
       "       [-1.89524564, -0.5157547 ,  1.23900078, -1.83274867],\n",
       "       [ 0.92740988, -0.5420169 ,  0.51299057,  0.79363744]])"
      ]
     },
     "execution_count": 5,
     "metadata": {},
     "output_type": "execute_result"
    }
   ],
   "source": [
    "#Example 2\n",
    "#We want all postive values to be returned as 2 from an existing array: \n",
    "arr = np.random.randn(4,4)\n",
    "arr"
   ]
  },
  {
   "cell_type": "code",
   "execution_count": 6,
   "metadata": {},
   "outputs": [
    {
     "data": {
      "text/plain": [
       "array([[False,  True, False, False],\n",
       "       [False,  True, False, False],\n",
       "       [False, False,  True, False],\n",
       "       [ True, False,  True,  True]])"
      ]
     },
     "execution_count": 6,
     "metadata": {},
     "output_type": "execute_result"
    }
   ],
   "source": [
    "arr>0"
   ]
  },
  {
   "cell_type": "code",
   "execution_count": 7,
   "metadata": {},
   "outputs": [
    {
     "data": {
      "text/plain": [
       "array([[-2,  2, -2, -2],\n",
       "       [-2,  2, -2, -2],\n",
       "       [-2, -2,  2, -2],\n",
       "       [ 2, -2,  2,  2]])"
      ]
     },
     "execution_count": 7,
     "metadata": {},
     "output_type": "execute_result"
    }
   ],
   "source": [
    "\n",
    "np.where(arr>0, 2, -2)"
   ]
  },
  {
   "cell_type": "code",
   "execution_count": 8,
   "metadata": {},
   "outputs": [
    {
     "data": {
      "text/plain": [
       "array([[-0.93957868,  2.        , -0.35891262, -0.21249576],\n",
       "       [-0.89775923,  2.        , -0.71215222, -0.46315864],\n",
       "       [-1.89524564, -0.5157547 ,  2.        , -1.83274867],\n",
       "       [ 2.        , -0.5420169 ,  2.        ,  2.        ]])"
      ]
     },
     "execution_count": 8,
     "metadata": {},
     "output_type": "execute_result"
    }
   ],
   "source": [
    "#if we want minus figure to remain as is:\n",
    "np.where(arr>0, 2, arr)"
   ]
  },
  {
   "cell_type": "code",
   "execution_count": null,
   "metadata": {},
   "outputs": [],
   "source": []
  }
 ],
 "metadata": {
  "kernelspec": {
   "display_name": "Python 3",
   "language": "python",
   "name": "python3"
  },
  "language_info": {
   "codemirror_mode": {
    "name": "ipython",
    "version": 3
   },
   "file_extension": ".py",
   "mimetype": "text/x-python",
   "name": "python",
   "nbconvert_exporter": "python",
   "pygments_lexer": "ipython3",
   "version": "3.7.4"
  }
 },
 "nbformat": 4,
 "nbformat_minor": 2
}
