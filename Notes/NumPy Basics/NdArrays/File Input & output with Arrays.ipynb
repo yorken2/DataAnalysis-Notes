{
 "cells": [
  {
   "cell_type": "markdown",
   "metadata": {},
   "source": [
    "## np.save & np.load\n",
    "\n",
    "Can save and load data to and from the disk either in text or binary format.\n",
    "\n",
    "Arrays are saved by default in an uncompressed raw binary format with file extension .npy\n",
    "\n",
    "—> np.save(‘some array’, array)\n",
    "If the file path does not end with an extension, it will be set to .npy\n",
    "\n",
    "—> np.load(‘some_array.npy’)\n"
   ]
  },
  {
   "cell_type": "code",
   "execution_count": null,
   "metadata": {},
   "outputs": [],
   "source": []
  }
 ],
 "metadata": {
  "kernelspec": {
   "display_name": "Python 3",
   "language": "python",
   "name": "python3"
  },
  "language_info": {
   "codemirror_mode": {
    "name": "ipython",
    "version": 3
   },
   "file_extension": ".py",
   "mimetype": "text/x-python",
   "name": "python",
   "nbconvert_exporter": "python",
   "pygments_lexer": "ipython3",
   "version": "3.7.4"
  }
 },
 "nbformat": 4,
 "nbformat_minor": 2
}
