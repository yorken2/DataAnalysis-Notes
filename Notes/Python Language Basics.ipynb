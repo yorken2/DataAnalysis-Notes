{
 "cells": [
  {
   "cell_type": "markdown",
   "metadata": {},
   "source": [
    "From datetime import date time, date, time \n",
    "\n",
    "None is a python null value type\n",
    "- Also a common default value for function arguments\n",
    "\n",
    "\n",
    "Pass: used in object blocks where no action is to be taken/placeholder for code not yet implemented.\n",
    "\t- elif x==0\n",
    "\t\tpass\n",
    "\n",
    "Range, len, \n",
    "\n",
    "Ternary expressions: allows you to combine if-else block that produces a value into a single line or expression\n",
    "\t- value = ‘true-expression’ if condition else ‘false-expo’\n",
    "\ti.e. ‘Non-negative’ if x>=0 else ‘Negative’\n"
   ]
  },
  {
   "cell_type": "code",
   "execution_count": null,
   "metadata": {},
   "outputs": [],
   "source": []
  }
 ],
 "metadata": {
  "kernelspec": {
   "display_name": "Python 3",
   "language": "python",
   "name": "python3"
  },
  "language_info": {
   "codemirror_mode": {
    "name": "ipython",
    "version": 3
   },
   "file_extension": ".py",
   "mimetype": "text/x-python",
   "name": "python",
   "nbconvert_exporter": "python",
   "pygments_lexer": "ipython3",
   "version": "3.7.4"
  }
 },
 "nbformat": 4,
 "nbformat_minor": 2
}
